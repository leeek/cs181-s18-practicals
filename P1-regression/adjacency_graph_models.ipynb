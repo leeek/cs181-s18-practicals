{
 "cells": [
  {
   "cell_type": "code",
   "execution_count": 2,
   "metadata": {},
   "outputs": [],
   "source": [
    "from model_wrapper import (\n",
    "    SKLearnModelWrapper,\n",
    "    ModelWrapper\n",
    ")"
   ]
  },
  {
   "cell_type": "code",
   "execution_count": 3,
   "metadata": {},
   "outputs": [],
   "source": [
    "from sklearn import linear_model\n",
    "\n",
    "class LinearRegression(SKLearnModelWrapper):\n",
    "    def get_model(self):\n",
    "        return linear_model.LinearRegression()\n",
    "\n",
    "class LarsLasso(SKLearnModelWrapper):\n",
    "    def get_model(self):\n",
    "        return linear_model.LassoLars(alpha=.1)"
   ]
  },
  {
   "cell_type": "code",
   "execution_count": 4,
   "metadata": {},
   "outputs": [
    {
     "name": "stdout",
     "output_type": "stream",
     "text": [
      "ASDASD\n",
      "0.103827264395 ERROR\n",
      "ASDASD\n",
      "0.160747105991 ERROR\n"
     ]
    },
    {
     "name": "stderr",
     "output_type": "stream",
     "text": [
      "/usr/local/lib/python3.6/site-packages/scipy/linalg/basic.py:1018: RuntimeWarning: internal gelsd driver lwork query error, required iwork dimension not returned. This is likely the result of LAPACK bug 0038, fixed in LAPACK 3.2.2 (released July 21, 2010). Falling back to 'gelss' driver.\n",
      "  warnings.warn(mesg, RuntimeWarning)\n"
     ]
    }
   ],
   "source": [
    "# linear regression\n",
    "linear_adjacency_eigenvalues = LinearRegression(\"data/adjacency_features.csv\")\n",
    "linear_adjacency_eigenvalues.build_model()\n",
    "\n",
    "lasso_adjacency_eigenvalues = LarsLasso(\"data/adjacency_features.csv\")\n",
    "lasso_adjacency_eigenvalues. build_model()"
   ]
  },
  {
   "cell_type": "code",
   "execution_count": 4,
   "metadata": {},
   "outputs": [],
   "source": [
    "from sklearn.gaussian_process import GaussianProcessRegressor\n",
    "\n",
    "class Gaussian(SKLearnModelWrapper):\n",
    "    def get_model(self):\n",
    "        return GaussianProcessRegressor()"
   ]
  },
  {
   "cell_type": "code",
   "execution_count": null,
   "metadata": {},
   "outputs": [],
   "source": [
    "# gaussian process wrapper\n",
    "gaussian_adjacency_eigenvalues = Gaussian(\"data/adjacency_features.csv\")\n",
    "gaussian_adjacency_eigenvalues.build_model()"
   ]
  },
  {
   "cell_type": "code",
   "execution_count": 5,
   "metadata": {},
   "outputs": [],
   "source": [
    "from sklearn.ensemble import RandomForestRegressor\n",
    "\n",
    "class RandomForestRegression(SKLearnModelWrapper):\n",
    "    def get_model(self):\n",
    "        return RandomForestRegressor(max_depth=4)"
   ]
  },
  {
   "cell_type": "code",
   "execution_count": 9,
   "metadata": {},
   "outputs": [
    {
     "name": "stdout",
     "output_type": "stream",
     "text": [
      "0.0947973783833 ERROR\n"
     ]
    }
   ],
   "source": [
    "# random forest regression\n",
    "random_forest_adjacency = RandomForestRegression(\"data/adjacency_features.csv\")\n",
    "random_forest_adjacency.build_model()"
   ]
  },
  {
   "cell_type": "code",
   "execution_count": 18,
   "metadata": {},
   "outputs": [],
   "source": [
    "from sklearn.neural_network import MLPRegressor\n",
    "from sklearn.preprocessing import StandardScaler\n",
    "\n",
    "class NeuralNet(SKLearnModelWrapper):\n",
    "    \n",
    "    def get_model(self):\n",
    "        return MLPRegressor()\n",
    "\n",
    "    def train(self, X, Y):\n",
    "        self.scaler = StandardScaler()\n",
    "        self.scaler.fit(X)\n",
    "        X_scaled = self.scaler.transform(X)\n",
    "        return super(NeuralNet, self).train(X_scaled, Y)\n",
    "\n",
    "    def predict(self, model, X):\n",
    "        X_scaled = self.scaler.transform(X)\n",
    "        return super(NeuralNet, self).predict(model, X_scaled)"
   ]
  },
  {
   "cell_type": "code",
   "execution_count": 19,
   "metadata": {},
   "outputs": [
    {
     "name": "stdout",
     "output_type": "stream",
     "text": [
      "0.0703160186868 ERROR\n"
     ]
    }
   ],
   "source": [
    "\n",
    "neural_net = NeuralNet(\"data/adjacency_features.csv\")\n",
    "neural_net.build_model()"
   ]
  },
  {
   "cell_type": "code",
   "execution_count": 32,
   "metadata": {},
   "outputs": [],
   "source": [
    "from sklearn import svm\n",
    "\n",
    "class SVMRegression(SKLearnModelWrapper):\n",
    "    \n",
    "    def get_model(self):\n",
    "        return svm.SVR()"
   ]
  },
  {
   "cell_type": "code",
   "execution_count": 33,
   "metadata": {},
   "outputs": [
    {
     "name": "stdout",
     "output_type": "stream",
     "text": [
      "0.186868963353 ERROR\n"
     ]
    }
   ],
   "source": [
    "svm_regression = SVMRegression(\"data/adjacency_features.csv\")\n",
    "svm_regression.build_model()"
   ]
  },
  {
   "cell_type": "code",
   "execution_count": 11,
   "metadata": {},
   "outputs": [],
   "source": [
    "import xgboost as xbg\n",
    "\n",
    "class BoostRegression(SKLearnModelWrapper):\n",
    "    def get_model(self):\n",
    "        return xgboost.XGBRegressor(n_estimators=100, max_depth=7)\n"
   ]
  },
  {
   "cell_type": "code",
   "execution_count": 12,
   "metadata": {},
   "outputs": [
    {
     "name": "stdout",
     "output_type": "stream",
     "text": [
      "0.0615456269393 ERROR\n"
     ]
    }
   ],
   "source": [
    "boosted = BoostRegression(\"data/adjacency_features.csv\")\n",
    "boosted.build_model()"
   ]
  },
  {
   "cell_type": "code",
   "execution_count": 13,
   "metadata": {},
   "outputs": [
    {
     "name": "stdout",
     "output_type": "stream",
     "text": [
      "0.0618661249488 ERROR\n"
     ]
    }
   ],
   "source": [
    "boosted_features = BoostRegression(\"train.csv\")\n",
    "boosted.build_model()"
   ]
  },
  {
   "cell_type": "code",
   "execution_count": 5,
   "metadata": {},
   "outputs": [],
   "source": [
    "from sklearn.ensemble import GradientBoostingRegressor\n",
    "\n",
    "class GradientBoost(SKLearnModelWrapper):\n",
    "    def get_model(self):\n",
    "        return GradientBoostingRegressor(n_estimators=100, learning_rate=0.1, max_depth=7, random_state=0, loss='ls')"
   ]
  },
  {
   "cell_type": "code",
   "execution_count": 6,
   "metadata": {},
   "outputs": [
    {
     "name": "stdout",
     "output_type": "stream",
     "text": [
      "ASDASD\n",
      "0.0714658168754 ERROR\n"
     ]
    }
   ],
   "source": [
    "gradient_boost = GradientBoost(\"data/adjacency_features.csv\")\n",
    "gradient_boost.build_model()"
   ]
  },
  {
   "cell_type": "code",
   "execution_count": null,
   "metadata": {},
   "outputs": [],
   "source": []
  }
 ],
 "metadata": {
  "kernelspec": {
   "display_name": "Python 3",
   "language": "python",
   "name": "python3"
  },
  "language_info": {
   "codemirror_mode": {
    "name": "ipython",
    "version": 3
   },
   "file_extension": ".py",
   "mimetype": "text/x-python",
   "name": "python",
   "nbconvert_exporter": "python",
   "pygments_lexer": "ipython3",
   "version": "3.6.4"
  }
 },
 "nbformat": 4,
 "nbformat_minor": 2
}
