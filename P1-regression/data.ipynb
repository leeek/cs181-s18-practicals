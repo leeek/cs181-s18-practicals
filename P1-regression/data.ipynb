{
 "cells": [
  {
   "cell_type": "code",
   "execution_count": 9,
   "metadata": {},
   "outputs": [],
   "source": [
    "import pandas as pd\n",
    "import numpy as np"
   ]
  },
  {
   "cell_type": "code",
   "execution_count": 64,
   "metadata": {},
   "outputs": [],
   "source": [
    "class DataWrangler:\n",
    "    \"\"\"\n",
    "    Generalized wrapper class to simplify the process\n",
    "    of feature engineering\n",
    "    \"\"\"\n",
    "    def __init__(self, X, Y):\n",
    "        self.X = X\n",
    "        self.Y = Y\n",
    "\n",
    "        F_unregularized = [\n",
    "            self.compute_features(x)\n",
    "            for x in self.X\n",
    "        ]\n",
    "\n",
    "        self.F = self.regularize_features(F_unregularized)\n",
    "\n",
    "    def compute_features(self, x):\n",
    "        raise NotImplemented\n",
    "\n",
    "    def regularize_features(self, F):\n",
    "        return F\n",
    "\n",
    "    def save_features(self, fname):\n",
    "        \"\"\"\n",
    "        Saves the features calculated for the data\n",
    "        to a file\n",
    "        \"\"\"\n",
    "        data = np.hstack((self.F, np.reshape(self.Y, (len(self.Y), 1))))\n",
    "        pd.DataFrame(data).to_csv(fname)\n",
    "\n",
    "\n",
    "class PaddedDataWrangler(DataWrangler):\n",
    "    \"\"\"\n",
    "    Automatically pads features with 0s\n",
    "    in order to ensure all vectors are of\n",
    "    the same size\n",
    "    \"\"\"\n",
    "    def regularize_features(self, F):\n",
    "        \"\"\"\n",
    "        Pad the feature vectors to ensure they\n",
    "        are all the same size\n",
    "        \"\"\"\n",
    "        biggest_feature_vec_size = max(len(v) for v in F)\n",
    "        padded = [\n",
    "            np.pad(v, (0, biggest_feature_vec_size - len(v)), mode=\"constant\")\n",
    "            for v in F\n",
    "        ]\n",
    "        return padded"
   ]
  },
  {
   "cell_type": "code",
   "execution_count": 66,
   "metadata": {},
   "outputs": [],
   "source": [
    "class AdjacencyEigenWrangler(PaddedDataWrangler):\n",
    "    \"\"\"\n",
    "    Computes the eigenspectrum for the adjacency matrix\n",
    "    of a molecule\n",
    "    \"\"\"\n",
    "    def compute_features(self, mol):\n",
    "        matrix = Chem.rdmolops.GetAdjacencyMatrix(mol)\n",
    "        eigenvalues, _ = np.linalg.eig(matrix)\n",
    "        return np.sort(eigenvalues.real)[::-1]"
   ]
  },
  {
   "cell_type": "code",
   "execution_count": 67,
   "metadata": {},
   "outputs": [],
   "source": [
    "from deepchem.feat.coulomb_matrices import CoulombMatrix\n",
    "\n",
    "class CoulombEigenWrangler(PaddedDataWrangler):\n",
    "    \"\"\"\n",
    "    Computes the eigenspectrum for a molecule's coulomb\n",
    "    matrix\n",
    "    \"\"\"\n",
    "    coulomb_featureizer = CoulombMatrixEig(remove_hydrogens=True, max_atoms=200)\n",
    "\n",
    "    def compute_features(self, mol):\n",
    "        mol = Chem.AddHs(mol)\n",
    "        Chem.AllChem.EmbedMultipleConfs(mol,1)\n",
    "        Chem.AllChem.UFFOptimizeMoleculeConfs(mol,maxIters=1000)\n",
    "        matrix = self.coulomb_featureizer.coulomb_matrix(mol)\n",
    "        eigenvalues, _ = np.linalg.eig(matrix)\n",
    "        return np.sort(eigenvalues[0].real)[::-1]"
   ]
  },
  {
   "cell_type": "code",
   "execution_count": 68,
   "metadata": {},
   "outputs": [],
   "source": [
    "# read in training data\n",
    "df_train = pd.read_csv(\"train.csv\")"
   ]
  },
  {
   "cell_type": "code",
   "execution_count": 69,
   "metadata": {},
   "outputs": [],
   "source": [
    "# extract the input data and target data\n",
    "from rdkit import Chem\n",
    "\n",
    "DEBUG = True\n",
    "TEST_SIZE = 10000 if DEBUG else len(df_train)\n",
    "X_train = [Chem.MolFromSmiles(smile) for smile in df_train.smiles.values[:TEST_SIZE]]\n",
    "Y_train = df_train.gap.values[:TEST_SIZE]"
   ]
  },
  {
   "cell_type": "code",
   "execution_count": 70,
   "metadata": {},
   "outputs": [],
   "source": [
    "adjacency_eigen = AdjacencyEigenWrangler(X_train, Y_train)\n",
    "adjacency_eigen.save_features(\"data/adjacency_features.csv\")"
   ]
  },
  {
   "cell_type": "code",
   "execution_count": 71,
   "metadata": {},
   "outputs": [],
   "source": [
    "coulomb_eigen = CoulombEigenWrangler(X_train, Y_train)\n",
    "coulomb_eigen.save_features(\"data/coulomb_features.csv\")"
   ]
  },
  {
   "cell_type": "code",
   "execution_count": null,
   "metadata": {},
   "outputs": [],
   "source": []
  }
 ],
 "metadata": {
  "anaconda-cloud": {},
  "kernelspec": {
   "display_name": "Python 3",
   "language": "python",
   "name": "python3"
  },
  "language_info": {
   "codemirror_mode": {
    "name": "ipython",
    "version": 3
   },
   "file_extension": ".py",
   "mimetype": "text/x-python",
   "name": "python",
   "nbconvert_exporter": "python",
   "pygments_lexer": "ipython3",
   "version": "3.6.4"
  }
 },
 "nbformat": 4,
 "nbformat_minor": 1
}
