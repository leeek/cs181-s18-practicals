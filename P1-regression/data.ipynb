{
 "cells": [
  {
   "cell_type": "code",
   "execution_count": 1,
   "metadata": {
    "collapsed": true
   },
   "outputs": [],
   "source": [
    "import pandas as pd\n",
    "import numpy as np"
   ]
  },
  {
   "cell_type": "code",
   "execution_count": 2,
   "metadata": {
    "collapsed": true
   },
   "outputs": [],
   "source": [
    "class DataWrangler:\n",
    "    \"\"\"\n",
    "    Generalized wrapper class to simplify the process\n",
    "    of feature engineering\n",
    "    \"\"\"\n",
    "    def __init__(self, X, Y):\n",
    "        self.X = X\n",
    "        self.Y = Y\n",
    "\n",
    "        F_unregularized = [\n",
    "            self.compute_features(x)\n",
    "            for x in self.X\n",
    "        ]\n",
    "\n",
    "        self.F = self.regularize_features(F_unregularized)\n",
    "\n",
    "    def compute_features(self, x):\n",
    "        raise NotImplemented\n",
    "\n",
    "    def regularize_features(self, F):\n",
    "        return F\n",
    "\n",
    "    def save_features(self, fname):\n",
    "        \"\"\"\n",
    "        Saves the features calculated for the data\n",
    "        to a file\n",
    "        \"\"\"\n",
    "        data = np.hstack((self.F, np.reshape(self.Y, (len(self.Y), 1))))\n",
    "        pd.DataFrame(data).to_csv(fname)\n",
    "\n",
    "\n",
    "class PaddedDataWrangler(DataWrangler):\n",
    "    \"\"\"\n",
    "    Automatically pads features with 0s\n",
    "    in order to ensure all vectors are of\n",
    "    the same size\n",
    "    \"\"\"\n",
    "    def regularize_features(self, F):\n",
    "        \"\"\"\n",
    "        Pad the feature vectors to ensure they\n",
    "        are all the same size\n",
    "        \"\"\"\n",
    "        biggest_feature_vec_size = max(len(v) for v in F)\n",
    "        padded = [\n",
    "            np.pad(v, (0, biggest_feature_vec_size - len(v)), mode=\"constant\")\n",
    "            for v in F\n",
    "        ]\n",
    "        return padded"
   ]
  },
  {
   "cell_type": "code",
   "execution_count": 3,
   "metadata": {
    "collapsed": true
   },
   "outputs": [],
   "source": [
    "class AdjacencyEigenWrangler(PaddedDataWrangler):\n",
    "    \"\"\"\n",
    "    Computes the eigenspectrum for the adjacency matrix\n",
    "    of a molecule\n",
    "    \"\"\"\n",
    "    def compute_features(self, mol):\n",
    "        matrix = Chem.rdmolops.GetAdjacencyMatrix(mol)\n",
    "        eigenvalues, _ = np.linalg.eig(matrix)\n",
    "        return np.sort(eigenvalues.real)[::-1]"
   ]
  },
  {
   "cell_type": "code",
   "execution_count": 4,
   "metadata": {},
   "outputs": [
    {
     "ename": "NameError",
     "evalue": "name 'CoulombMatrixEig' is not defined",
     "output_type": "error",
     "traceback": [
      "\u001b[0;31m---------------------------------------------------------------------------\u001b[0m",
      "\u001b[0;31mNameError\u001b[0m                                 Traceback (most recent call last)",
      "\u001b[0;32m<ipython-input-4-3c41dea87132>\u001b[0m in \u001b[0;36m<module>\u001b[0;34m()\u001b[0m\n\u001b[1;32m      1\u001b[0m \u001b[0;32mfrom\u001b[0m \u001b[0mdeepchem\u001b[0m\u001b[0;34m.\u001b[0m\u001b[0mfeat\u001b[0m\u001b[0;34m.\u001b[0m\u001b[0mcoulomb_matrices\u001b[0m \u001b[0;32mimport\u001b[0m \u001b[0mCoulombMatrix\u001b[0m\u001b[0;34m\u001b[0m\u001b[0m\n\u001b[1;32m      2\u001b[0m \u001b[0;34m\u001b[0m\u001b[0m\n\u001b[0;32m----> 3\u001b[0;31m \u001b[0;32mclass\u001b[0m \u001b[0mCoulombEigenWrangler\u001b[0m\u001b[0;34m(\u001b[0m\u001b[0mPaddedDataWrangler\u001b[0m\u001b[0;34m)\u001b[0m\u001b[0;34m:\u001b[0m\u001b[0;34m\u001b[0m\u001b[0m\n\u001b[0m\u001b[1;32m      4\u001b[0m     \"\"\"\n\u001b[1;32m      5\u001b[0m     \u001b[0mComputes\u001b[0m \u001b[0mthe\u001b[0m \u001b[0meigenspectrum\u001b[0m \u001b[0;32mfor\u001b[0m \u001b[0ma\u001b[0m \u001b[0mmolecule\u001b[0m\u001b[0;31m'\u001b[0m\u001b[0ms\u001b[0m \u001b[0mcoulomb\u001b[0m\u001b[0;34m\u001b[0m\u001b[0m\n",
      "\u001b[0;32m<ipython-input-4-3c41dea87132>\u001b[0m in \u001b[0;36mCoulombEigenWrangler\u001b[0;34m()\u001b[0m\n\u001b[1;32m      6\u001b[0m     \u001b[0mmatrix\u001b[0m\u001b[0;34m\u001b[0m\u001b[0m\n\u001b[1;32m      7\u001b[0m     \"\"\"\n\u001b[0;32m----> 8\u001b[0;31m     \u001b[0mcoulomb_featureizer\u001b[0m \u001b[0;34m=\u001b[0m \u001b[0mCoulombMatrixEig\u001b[0m\u001b[0;34m(\u001b[0m\u001b[0mremove_hydrogens\u001b[0m\u001b[0;34m=\u001b[0m\u001b[0;32mTrue\u001b[0m\u001b[0;34m,\u001b[0m \u001b[0mmax_atoms\u001b[0m\u001b[0;34m=\u001b[0m\u001b[0;36m200\u001b[0m\u001b[0;34m)\u001b[0m\u001b[0;34m\u001b[0m\u001b[0m\n\u001b[0m\u001b[1;32m      9\u001b[0m \u001b[0;34m\u001b[0m\u001b[0m\n\u001b[1;32m     10\u001b[0m     \u001b[0;32mdef\u001b[0m \u001b[0mcompute_features\u001b[0m\u001b[0;34m(\u001b[0m\u001b[0mself\u001b[0m\u001b[0;34m,\u001b[0m \u001b[0mmol\u001b[0m\u001b[0;34m)\u001b[0m\u001b[0;34m:\u001b[0m\u001b[0;34m\u001b[0m\u001b[0m\n",
      "\u001b[0;31mNameError\u001b[0m: name 'CoulombMatrixEig' is not defined"
     ]
    }
   ],
   "source": [
    "from deepchem.feat.coulomb_matrices import CoulombMatrix\n",
    "\n",
    "class CoulombEigenWrangler(PaddedDataWrangler):\n",
    "    \"\"\"\n",
    "    Computes the eigenspectrum for a molecule's coulomb\n",
    "    matrix\n",
    "    \"\"\"\n",
    "    coulomb_featureizer = CoulombMatrixEig(remove_hydrogens=True, max_atoms=200)\n",
    "\n",
    "    def compute_features(self, mol):\n",
    "        mol = Chem.AddHs(mol)\n",
    "        Chem.AllChem.EmbedMultipleConfs(mol,1)\n",
    "        Chem.AllChem.UFFOptimizeMoleculeConfs(mol,maxIters=1000)\n",
    "        matrix = self.coulomb_featureizer.coulomb_matrix(mol)\n",
    "        eigenvalues, _ = np.linalg.eig(matrix)\n",
    "        return np.sort(eigenvalues[0].real)[::-1]"
   ]
  },
  {
   "cell_type": "code",
   "execution_count": null,
   "metadata": {
    "collapsed": true
   },
   "outputs": [],
   "source": [
    "# read in training data\n",
    "df_train = pd.read_csv(\"train.csv\")"
   ]
  },
  {
   "cell_type": "code",
   "execution_count": 1,
   "metadata": {},
   "outputs": [
    {
     "ename": "NameError",
     "evalue": "name 'df_train' is not defined",
     "output_type": "error",
     "traceback": [
      "\u001b[0;31m---------------------------------------------------------------------------\u001b[0m",
      "\u001b[0;31mNameError\u001b[0m                                 Traceback (most recent call last)",
      "\u001b[0;32m<ipython-input-1-f2fff44d2485>\u001b[0m in \u001b[0;36m<module>\u001b[0;34m()\u001b[0m\n\u001b[1;32m      4\u001b[0m \u001b[0mDEBUG\u001b[0m \u001b[0;34m=\u001b[0m \u001b[0;32mTrue\u001b[0m\u001b[0;34m\u001b[0m\u001b[0m\n\u001b[1;32m      5\u001b[0m \u001b[0mTEST_SIZE\u001b[0m \u001b[0;34m=\u001b[0m \u001b[0;36m10000\u001b[0m \u001b[0;32mif\u001b[0m \u001b[0mDEBUG\u001b[0m \u001b[0;32melse\u001b[0m \u001b[0mlen\u001b[0m\u001b[0;34m(\u001b[0m\u001b[0mdf_train\u001b[0m\u001b[0;34m)\u001b[0m\u001b[0;34m\u001b[0m\u001b[0m\n\u001b[0;32m----> 6\u001b[0;31m \u001b[0mX_train\u001b[0m \u001b[0;34m=\u001b[0m \u001b[0;34m[\u001b[0m\u001b[0mChem\u001b[0m\u001b[0;34m.\u001b[0m\u001b[0mMolFromSmiles\u001b[0m\u001b[0;34m(\u001b[0m\u001b[0msmile\u001b[0m\u001b[0;34m)\u001b[0m \u001b[0;32mfor\u001b[0m \u001b[0msmile\u001b[0m \u001b[0;32min\u001b[0m \u001b[0mdf_train\u001b[0m\u001b[0;34m.\u001b[0m\u001b[0msmiles\u001b[0m\u001b[0;34m.\u001b[0m\u001b[0mvalues\u001b[0m\u001b[0;34m[\u001b[0m\u001b[0;34m:\u001b[0m\u001b[0mTEST_SIZE\u001b[0m\u001b[0;34m]\u001b[0m\u001b[0;34m]\u001b[0m\u001b[0;34m\u001b[0m\u001b[0m\n\u001b[0m\u001b[1;32m      7\u001b[0m \u001b[0mY_train\u001b[0m \u001b[0;34m=\u001b[0m \u001b[0mdf_train\u001b[0m\u001b[0;34m.\u001b[0m\u001b[0mgap\u001b[0m\u001b[0;34m.\u001b[0m\u001b[0mvalues\u001b[0m\u001b[0;34m[\u001b[0m\u001b[0;34m:\u001b[0m\u001b[0mTEST_SIZE\u001b[0m\u001b[0;34m]\u001b[0m\u001b[0;34m\u001b[0m\u001b[0m\n",
      "\u001b[0;31mNameError\u001b[0m: name 'df_train' is not defined"
     ]
    }
   ],
   "source": [
    "# extract the input data and target data\n",
    "from rdkit import Chem\n",
    "\n",
    "DEBUG = True\n",
    "TEST_SIZE = 10000 if DEBUG else len(df_train)\n",
    "X_train = [Chem.MolFromSmiles(smile) for smile in df_train.smiles.values[:TEST_SIZE]]\n",
    "Y_train = df_train.gap.values[:TEST_SIZE]"
   ]
  },
  {
   "cell_type": "code",
   "execution_count": 70,
   "metadata": {
    "collapsed": true
   },
   "outputs": [],
   "source": [
    "adjacency_eigen = AdjacencyEigenWrangler(X_train, Y_train)\n",
    "adjacency_eigen.save_features(\"data/adjacency_features.csv\")"
   ]
  },
  {
   "cell_type": "code",
   "execution_count": 71,
   "metadata": {
    "collapsed": true
   },
   "outputs": [],
   "source": [
    "coulomb_eigen = CoulombEigenWrangler(X_train, Y_train)\n",
    "coulomb_eigen.save_features(\"data/coulomb_features.csv\")"
   ]
  },
  {
   "cell_type": "code",
   "execution_count": null,
   "metadata": {
    "collapsed": true
   },
   "outputs": [],
   "source": []
  }
 ],
 "metadata": {
  "anaconda-cloud": {},
  "kernelspec": {
   "display_name": "Python 3",
   "language": "python",
   "name": "python3"
  },
  "language_info": {
   "codemirror_mode": {
    "name": "ipython",
    "version": 3
   },
   "file_extension": ".py",
   "mimetype": "text/x-python",
   "name": "python",
   "nbconvert_exporter": "python",
   "pygments_lexer": "ipython3",
   "version": "3.5.4"
  }
 },
 "nbformat": 4,
 "nbformat_minor": 1
}
