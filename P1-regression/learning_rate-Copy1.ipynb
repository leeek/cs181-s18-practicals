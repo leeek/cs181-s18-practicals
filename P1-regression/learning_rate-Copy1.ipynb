{
 "cells": [
  {
   "cell_type": "code",
   "execution_count": 1,
   "metadata": {
    "collapsed": true
   },
   "outputs": [],
   "source": [
    "import pandas as pd\n",
    "import numpy as np\n",
    "\n",
    "from sklearn.linear_model import LinearRegression, Ridge, SGDRegressor\n",
    "from sklearn.ensemble import RandomForestRegressor\n",
    "from sklearn.kernel_ridge import KernelRidge\n",
    "from sklearn.model_selection import GridSearchCV\n",
    "\n",
    "import xgboost\n",
    "import time\n",
    "import math\n",
    "import random\n",
    "\n",
    "from model_wrapper import (\n",
    "    SKLearnModelWrapper,\n",
    "    ModelWrapper\n",
    ")\n",
    "\n",
    "## LEARNING RATE ###\n",
    "import matplotlib.pyplot as plt\n",
    "%matplotlib inline\n",
    "from sklearn.model_selection import learning_curve"
   ]
  },
  {
   "cell_type": "code",
   "execution_count": 2,
   "metadata": {
    "collapsed": true
   },
   "outputs": [],
   "source": [
    "class BoostRegression(SKLearnModelWrapper): \n",
    "    # MODIFIED TO TAKE in X, Y when initializing\n",
    "    def __init__(self, X, Y, *args, debug=False, **kwargs):\n",
    "        self.X = X\n",
    "        # when debugging only use a tiny subset of the data\n",
    "        if debug:\n",
    "            self.X = self.X[:10]\n",
    "        self.Y = Y\n",
    "        \n",
    "    def get_model(self):\n",
    "        return xgboost.XGBRegressor(n_estimators=100, max_depth=6)"
   ]
  },
  {
   "cell_type": "code",
   "execution_count": 3,
   "metadata": {
    "collapsed": true
   },
   "outputs": [],
   "source": [
    "##########################\n",
    "## SET UP TRAINING DATA ##\n",
    "##########################\n",
    "\n",
    "df_train = pd.read_csv(\"merged_train.csv\")\n",
    "\n",
    "\n",
    "# extract arrays containing data\n",
    "Y_train = df_train.gap.values\n",
    "X_train = df_train.values[:,:-1] # exclude last column"
   ]
  },
  {
   "cell_type": "code",
   "execution_count": 16,
   "metadata": {},
   "outputs": [
    {
     "name": "stdout",
     "output_type": "stream",
     "text": [
      "ASDASD\n",
      "0.0184283220004 ERROR\n",
      "133.25918579101562\n"
     ]
    }
   ],
   "source": [
    "# train model\n",
    "XGB = BoostRegression(X_train, Y_train)\n",
    "t0 = time.time()\n",
    "XGB.build_model()\n",
    "print(time.time()-t0)"
   ]
  },
  {
   "cell_type": "code",
   "execution_count": 19,
   "metadata": {},
   "outputs": [
    {
     "name": "stdout",
     "output_type": "stream",
     "text": [
      "635.3349928855896\n"
     ]
    }
   ],
   "source": [
    "t0 = time.time()\n",
    "train_sizes_abs, train_scores_xgb, test_scores_xgb = \\\n",
    "    learning_curve(BoostRegression(X_train, Y_train).get_model(), X_train, Y_train, train_sizes=[1000,5000, 10000, 20000,35000],\n",
    "                   scoring=\"neg_mean_squared_error\", cv=5)\n",
    "print(time.time() - t0)"
   ]
  },
  {
   "cell_type": "code",
   "execution_count": 20,
   "metadata": {},
   "outputs": [
    {
     "data": {
      "image/png": "[encoded data removed]",
      "text/plain": [
       "<matplotlib.figure.Figure at 0x7f6a9039f400>"
      ]
     },
     "metadata": {},
     "output_type": "display_data"
    }
   ],
   "source": [
    "plt.figure()\n",
    "plt.plot(train_sizes_abs, -test_scores_xgb.mean(1), 'o-', color=\"b\")\n",
    "plt.xlabel(\"Train size\")\n",
    "plt.ylabel(\"Mean Squared Error\")\n",
    "plt.title('Learning curve')\n",
    "plt.legend(loc=\"best\")\n",
    "\n",
    "plt.show()"
   ]
  },
  {
   "cell_type": "code",
   "execution_count": null,
   "metadata": {
    "collapsed": true
   },
   "outputs": [],
   "source": []
  }
 ],
 "metadata": {
  "kernelspec": {
   "display_name": "Python 3",
   "language": "python",
   "name": "python3"
  },
  "language_info": {
   "codemirror_mode": {
    "name": "ipython",
    "version": 3
   },
   "file_extension": ".py",
   "mimetype": "text/x-python",
   "name": "python",
   "nbconvert_exporter": "python",
   "pygments_lexer": "ipython3",
   "version": "3.6.3"
  }
 },
 "nbformat": 4,
 "nbformat_minor": 2
}
