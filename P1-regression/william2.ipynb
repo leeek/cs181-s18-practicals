{
 "cells": [
  {
   "cell_type": "code",
   "execution_count": 38,
   "metadata": {},
   "outputs": [],
   "source": [
    "import pandas as pd\n",
    "import numpy as np\n",
    "import matplotlib.pyplot as plt\n",
    "from sklearn.linear_model import LinearRegression\n",
    "from sklearn.ensemble import RandomForestRegressor\n",
    "import xgboost as xgboost\n",
    "from sklearn import svm\n",
    "from sklearn.neural_network import MLPRegressor\n",
    "from sklearn.preprocessing import StandardScaler\n",
    "from model_wrapper import (\n",
    "    SKLearnModelWrapper,\n",
    "    ModelWrapper\n",
    ")\n",
    "from sklearn.linear_model import RidgeCV\n",
    "from sklearn.linear_model import LassoCV"
   ]
  },
  {
   "cell_type": "code",
   "execution_count": 49,
   "metadata": {
    "collapsed": true
   },
   "outputs": [],
   "source": [
    "df = pd.read_csv(\"coulomb_full_train.csv\", index_col = 0)"
   ]
  },
  {
   "cell_type": "code",
   "execution_count": 50,
   "metadata": {
    "collapsed": true
   },
   "outputs": [],
   "source": [
    "def write_to_file(filename, predictions):\n",
    "    with open(filename, \"w\") as f:\n",
    "        f.write(\"Id,Prediction\\n\")\n",
    "        for i,p in enumerate(predictions):\n",
    "            f.write(str(i+1) + \",\" + str(p) + \"\\n\")"
   ]
  },
  {
   "cell_type": "code",
   "execution_count": 51,
   "metadata": {
    "collapsed": true
   },
   "outputs": [],
   "source": [
    "train_cols = [col for col in df.columns if col != 'smile' and col != 'gap']\n",
    "y_train = df['gap']"
   ]
  },
  {
   "cell_type": "code",
   "execution_count": 52,
   "metadata": {},
   "outputs": [],
   "source": [
    "x_train = df[train_cols]"
   ]
  },
  {
   "cell_type": "code",
   "execution_count": 107,
   "metadata": {},
   "outputs": [
    {
     "name": "stderr",
     "output_type": "stream",
     "text": [
      "/home/ubuntu/anaconda3/envs/my-rdkit-env/lib/python3.5/site-packages/ipykernel_launcher.py:2: SettingWithCopyWarning: \n",
      "A value is trying to be set on a copy of a slice from a DataFrame.\n",
      "Try using .loc[row_indexer,col_indexer] = value instead\n",
      "\n",
      "See the caveats in the documentation: http://pandas.pydata.org/pandas-docs/stable/indexing.html#indexing-view-versus-copy\n",
      "  \n"
     ]
    }
   ],
   "source": [
    "# df_new = x_train\n",
    "# df_new['gap'] = y_train"
   ]
  },
  {
   "cell_type": "code",
   "execution_count": 117,
   "metadata": {},
   "outputs": [],
   "source": [
    "# df_new.to_csv(\"new_df.csv\")"
   ]
  },
  {
   "cell_type": "code",
   "execution_count": 109,
   "metadata": {
    "collapsed": true
   },
   "outputs": [],
   "source": [
    "from sklearn.ensemble import GradientBoostingRegressor\n",
    "\n",
    "class GradientBoost(SKLearnModelWrapper):\n",
    "    def get_model(self):\n",
    "        return GradientBoostingRegressor(n_estimators=100, learning_rate=0.1, max_depth=7, random_state=0, loss='ls')"
   ]
  },
  {
   "cell_type": "code",
   "execution_count": 110,
   "metadata": {
    "collapsed": true
   },
   "outputs": [],
   "source": [
    "class BoostRegression(SKLearnModelWrapper):\n",
    "    def get_model(self):\n",
    "        return xgboost.XGBRegressor(n_estimators=100, max_depth=7)"
   ]
  },
  {
   "cell_type": "code",
   "execution_count": 118,
   "metadata": {},
   "outputs": [
    {
     "name": "stdout",
     "output_type": "stream",
     "text": [
      "ASDASD\n",
      "0.0367822316913 ERROR\n"
     ]
    }
   ],
   "source": [
    "boosted = BoostRegression(\"new_df.csv\")\n",
    "boosted.build_model()"
   ]
  },
  {
   "cell_type": "code",
   "execution_count": 121,
   "metadata": {},
   "outputs": [
    {
     "data": {
      "text/plain": [
       "True"
      ]
     },
     "execution_count": 121,
     "metadata": {},
     "output_type": "execute_result"
    }
   ],
   "source": [
    "type(4) is int"
   ]
  },
  {
   "cell_type": "code",
   "execution_count": 131,
   "metadata": {},
   "outputs": [],
   "source": [
    "from sklearn.model_selection import train_test_split\n",
    "from sklearn.metrics import mean_squared_error\n",
    "import pandas as pd\n",
    "\n",
    "from sklearn.model_selection import GridSearchCV\n",
    "\n",
    "class ModelWrapper:\n",
    "    \"\"\"\n",
    "    Wrapper to simplify the process of\n",
    "    loading data, parameter tuning, etc\n",
    "    \"\"\"\n",
    "    def __init__(self, csv_name, var_name, *args, debug=False, **kwargs):\n",
    "        df = pd.read_csv(csv_name)\n",
    "        df = df[[col for col in df.columns if type(col) is float]]\n",
    "        \n",
    "        self.X = self.preprocess_X(df.iloc[:, :-1])\n",
    "        \n",
    "        # when debugging only use a tiny subset of the data\n",
    "        if debug:\n",
    "            self.X = self.X[:10]\n",
    "\n",
    "        self.Y = df.iloc[:,-1]\n",
    "        \n",
    "    def preprocess_X(self, X):\n",
    "        return X\n",
    "\n",
    "    def predict(self, X):\n",
    "        \"\"\"\n",
    "        Return a list of predictions\n",
    "        and error associated with the model\n",
    "        \"\"\"\n",
    "        raise NotImplemented\n",
    "    \n",
    "    def train(self, X, Y):\n",
    "        \"\"\"\n",
    "        Train on a subset of the data, returning\n",
    "        a model\n",
    "        \"\"\"\n",
    "        raise NotImplemented\n",
    "\n",
    "    def build_model(self):\n",
    "        \"\"\"\n",
    "        Builds a model\n",
    "        \"\"\"\n",
    "        X_train, X_test, Y_train, Y_test = train_test_split(self.X, self.Y)\n",
    "        self.train(X_train, Y_train)\n",
    "        Y_pred = self.predict(X_test)\n",
    "        print (mean_squared_error(Y_pred, Y_test), \"ERROR\")\n",
    "\n",
    "\n",
    "class SKLearnModelWrapper(ModelWrapper):\n",
    "    \"\"\"\n",
    "    Specifically built for SKLearn models\n",
    "    \"\"\"\n",
    "    def get_model(self):\n",
    "        \"\"\"\n",
    "        Return the SKLearn model class\n",
    "        \"\"\"\n",
    "        raise NotImplemented\n",
    "\n",
    "    def train(self, X, Y):\n",
    "        self.model = self.get_model()\n",
    "        assert (self.model is not None)\n",
    "        self.model.fit(X, Y)\n",
    "\n",
    "    def predict(self, X):\n",
    "        return self.model.predict(X)\n",
    "\n",
    "\n",
    "class CombinedModelWrapper(ModelWrapper):\n",
    "    \"\"\"\n",
    "    Combines the predictions for several models\n",
    "    MAKE SURE THAT THE DATAFRAMES ARE ORDERED\n",
    "    THE SAME WAY!!\n",
    "    \"\"\"\n",
    "    def __init__(self, models, *args, **kwargs):\n",
    "        self.models = models\n",
    "        self.X = list(zip(model.X for model in models))\n",
    "        self.Y = models[0].Y[:len(self.X)]\n",
    "        \n",
    "    def apply_models(self, X):\n",
    "        return [\n",
    "            [\n",
    "                model.predict(x)\n",
    "                for model, x in zip(self.models, dataset)\n",
    "            ]\n",
    "            for dataset in X\n",
    "        ]\n",
    "\n",
    "    def train(self, X, Y):\n",
    "        X_transformed = self.apply_models(X)\n",
    "        return super(CombinedModelWrapper, self).train(X_transformed, Y)\n",
    "\n",
    "    def predict(self, X):\n",
    "        X_transformed = self.apply_models(X)\n",
    "        return super(CombinedModelWrapper, self).predict(X_transformed)\n",
    "\n",
    "    def build_model(self):\n",
    "        for model in self.models:\n",
    "            model.build_model()\n",
    "\n",
    "        return super(CombinedModelWrapper, self).build_model()"
   ]
  },
  {
   "cell_type": "code",
   "execution_count": null,
   "metadata": {},
   "outputs": [],
   "source": [
    "boosted = BoostRegression(\"coulomb_full_train.csv\", 'gap')\n",
    "boosted.build_model()"
   ]
  },
  {
   "cell_type": "code",
   "execution_count": null,
   "metadata": {
    "collapsed": true
   },
   "outputs": [],
   "source": []
  }
 ],
 "metadata": {
  "kernelspec": {
   "display_name": "Python 3",
   "language": "python",
   "name": "python3"
  },
  "language_info": {
   "codemirror_mode": {
    "name": "ipython",
    "version": 3
   },
   "file_extension": ".py",
   "mimetype": "text/x-python",
   "name": "python",
   "nbconvert_exporter": "python",
   "pygments_lexer": "ipython3",
   "version": "3.5.4"
  }
 },
 "nbformat": 4,
 "nbformat_minor": 2
}
