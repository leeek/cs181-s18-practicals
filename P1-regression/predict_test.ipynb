{
 "cells": [
  {
   "cell_type": "code",
   "execution_count": 94,
   "metadata": {
    "collapsed": true
   },
   "outputs": [],
   "source": [
    "import pandas as pd\n",
    "import numpy as np\n",
    "\n",
    "from sklearn.linear_model import LinearRegression, Ridge, SGDRegressor\n",
    "from sklearn.ensemble import RandomForestRegressor\n",
    "from sklearn.kernel_ridge import KernelRidge\n",
    "from sklearn.model_selection import GridSearchCV\n",
    "\n",
    "import xgboost\n",
    "import time\n",
    "import math\n",
    "import random\n",
    "\n",
    "from model_wrapper import (\n",
    "    SKLearnModelWrapper,\n",
    "    ModelWrapper\n",
    ")"
   ]
  },
  {
   "cell_type": "code",
   "execution_count": 72,
   "metadata": {
    "collapsed": true
   },
   "outputs": [],
   "source": [
    "def write_to_file(filename, predictions):\n",
    "    with open(filename, \"w\") as f:\n",
    "        f.write(\"Id,Prediction\\n\")\n",
    "        for i,p in enumerate(predictions):\n",
    "            f.write(str(i+1) + \",\" + str(p) + \"\\n\")\n",
    "\n",
    "class BoostRegression(SKLearnModelWrapper): \n",
    "    # MODIFIED TO TAKE in X, Y when initializing\n",
    "    def __init__(self, X, Y, *args, debug=False, **kwargs):\n",
    "        self.X = X\n",
    "        # when debugging only use a tiny subset of the data\n",
    "        if debug:\n",
    "            self.X = self.X[:10]\n",
    "        self.Y = Y\n",
    "        \n",
    "    def get_model(self):\n",
    "        #return xgboost.XGBRegressor(n_estimators=100, max_depth=7)\n",
    "        return GridSearchCV(xgboost.XGBRegressor(n_estimators=100, max_depth=7), cv=5,\n",
    "                  param_grid={\"n_estimators\": [50, 100, 150],\n",
    "                              \"max_depth\": [3, 7, 10]})\n",
    "    \n",
    "class KernelRidgeRegression(SKLearnModelWrapper):\n",
    "    # MODIFIED TO TAKE in X, Y when initializing\n",
    "    def __init__(self, X, Y, *args, debug=False, **kwargs):\n",
    "        self.X = X\n",
    "        # when debugging only use a tiny subset of the data\n",
    "        if debug:\n",
    "            self.X = self.X[:10]\n",
    "        self.Y = Y\n",
    "        \n",
    "    def get_model(self):\n",
    "        return KernelRidge(kernel='laplacian', alpha=1e-2,gamma=.001)"
   ]
  },
  {
   "cell_type": "code",
   "execution_count": 22,
   "metadata": {
    "collapsed": true
   },
   "outputs": [],
   "source": [
    "##########################\n",
    "## SET UP TRAINING DATA ##\n",
    "##########################\n",
    "\n",
    "df_train = pd.read_csv(\"merged_train.csv\")\n",
    "\n",
    "\n",
    "# extract arrays containing data\n",
    "Y_train = df_train.gap.values\n",
    "X_train = df_train.values[:,:-1] # exclude last column\n",
    "\n",
    "# train model\n",
    "XGB = KernelRidgeRegression(X_train, Y_train)\n",
    "t0 = time.time()\n",
    "XGB.build_model()\n",
    "print(time.time()-t0)"
   ]
  },
  {
   "cell_type": "code",
   "execution_count": 7,
   "metadata": {
    "collapsed": true
   },
   "outputs": [],
   "source": [
    "######################\n",
    "## SET UP TEST DATA ##\n",
    "######################\n",
    "\n",
    "df_test = pd.read_csv(\"merged_test.csv\")\n",
    "\n",
    "# check variables in same order\n",
    "assert(list(df_train)[:-1] == list(df_test))"
   ]
  },
  {
   "cell_type": "code",
   "execution_count": 17,
   "metadata": {
    "collapsed": true
   },
   "outputs": [],
   "source": [
    "# extract data\n",
    "X_test = df_test.values\n",
    "\n",
    "XGB_pred = XGB.predict(X_test)"
   ]
  },
  {
   "cell_type": "code",
   "execution_count": 18,
   "metadata": {
    "collapsed": true
   },
   "outputs": [],
   "source": [
    "write_to_file('xgb_preds_tuned.csv', XGB_pred)"
   ]
  },
  {
   "cell_type": "code",
   "execution_count": null,
   "metadata": {
    "collapsed": true
   },
   "outputs": [],
   "source": []
  }
 ],
 "metadata": {
  "kernelspec": {
   "display_name": "Python 3",
   "language": "python",
   "name": "python3"
  },
  "language_info": {
   "codemirror_mode": {
    "name": "ipython",
    "version": 3
   },
   "file_extension": ".py",
   "mimetype": "text/x-python",
   "name": "python",
   "nbconvert_exporter": "python",
   "pygments_lexer": "ipython3",
   "version": "3.6.3"
  }
 },
 "nbformat": 4,
 "nbformat_minor": 2
}
